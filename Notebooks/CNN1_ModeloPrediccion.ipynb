{
 "cells": [
  {
   "cell_type": "code",
   "execution_count": 19,
   "id": "986d488f-e05b-48ea-a4ac-9bae33140164",
   "metadata": {},
   "outputs": [],
   "source": [
    "import pandas as pd\n",
    "import numpy as np\n",
    "from sklearn.preprocessing import StandardScaler\n",
    "from sklearn.model_selection import train_test_split\n",
    "import tensorflow as tf\n",
    "from tensorflow import keras\n",
    "import matplotlib.pyplot as plt"
   ]
  },
  {
   "cell_type": "code",
   "execution_count": 16,
   "id": "ce09f931-37cd-499a-aba6-7ff367f5aa83",
   "metadata": {},
   "outputs": [
    {
     "data": {
      "text/plain": [
       "[PhysicalDevice(name='/physical_device:GPU:0', device_type='GPU')]"
      ]
     },
     "execution_count": 16,
     "metadata": {},
     "output_type": "execute_result"
    }
   ],
   "source": [
    "tf.config.list_physical_devices('GPU')"
   ]
  },
  {
   "cell_type": "code",
   "execution_count": 3,
   "id": "5f8c9b15-9c23-4b87-a8a1-9b8d8d8040ad",
   "metadata": {},
   "outputs": [],
   "source": [
    "CNN1_MP10 = pd.read_csv('CNN1_MP10.csv')"
   ]
  },
  {
   "cell_type": "code",
   "execution_count": 4,
   "id": "031d33a6-fb55-41b5-9cbb-70bd6dc10e68",
   "metadata": {},
   "outputs": [
    {
     "data": {
      "text/html": [
       "<div>\n",
       "<style scoped>\n",
       "    .dataframe tbody tr th:only-of-type {\n",
       "        vertical-align: middle;\n",
       "    }\n",
       "\n",
       "    .dataframe tbody tr th {\n",
       "        vertical-align: top;\n",
       "    }\n",
       "\n",
       "    .dataframe thead th {\n",
       "        text-align: right;\n",
       "    }\n",
       "</style>\n",
       "<table border=\"1\" class=\"dataframe\">\n",
       "  <thead>\n",
       "    <tr style=\"text-align: right;\">\n",
       "      <th></th>\n",
       "      <th>DV</th>\n",
       "      <th>HR</th>\n",
       "      <th>TEMP</th>\n",
       "      <th>VV</th>\n",
       "      <th>MP10</th>\n",
       "    </tr>\n",
       "  </thead>\n",
       "  <tbody>\n",
       "    <tr>\n",
       "      <th>0</th>\n",
       "      <td>135.0</td>\n",
       "      <td>36.0</td>\n",
       "      <td>20.8</td>\n",
       "      <td>14.5</td>\n",
       "      <td>21.0</td>\n",
       "    </tr>\n",
       "    <tr>\n",
       "      <th>1</th>\n",
       "      <td>135.0</td>\n",
       "      <td>35.0</td>\n",
       "      <td>21.3</td>\n",
       "      <td>12.9</td>\n",
       "      <td>12.0</td>\n",
       "    </tr>\n",
       "    <tr>\n",
       "      <th>2</th>\n",
       "      <td>112.5</td>\n",
       "      <td>33.0</td>\n",
       "      <td>21.3</td>\n",
       "      <td>11.3</td>\n",
       "      <td>9.0</td>\n",
       "    </tr>\n",
       "    <tr>\n",
       "      <th>3</th>\n",
       "      <td>135.0</td>\n",
       "      <td>30.0</td>\n",
       "      <td>21.9</td>\n",
       "      <td>11.3</td>\n",
       "      <td>10.0</td>\n",
       "    </tr>\n",
       "    <tr>\n",
       "      <th>4</th>\n",
       "      <td>112.5</td>\n",
       "      <td>31.0</td>\n",
       "      <td>21.2</td>\n",
       "      <td>9.7</td>\n",
       "      <td>14.0</td>\n",
       "    </tr>\n",
       "    <tr>\n",
       "      <th>5</th>\n",
       "      <td>112.5</td>\n",
       "      <td>30.0</td>\n",
       "      <td>19.7</td>\n",
       "      <td>8.0</td>\n",
       "      <td>5.0</td>\n",
       "    </tr>\n",
       "    <tr>\n",
       "      <th>6</th>\n",
       "      <td>135.0</td>\n",
       "      <td>45.0</td>\n",
       "      <td>16.9</td>\n",
       "      <td>6.4</td>\n",
       "      <td>13.0</td>\n",
       "    </tr>\n",
       "    <tr>\n",
       "      <th>7</th>\n",
       "      <td>NaN</td>\n",
       "      <td>49.0</td>\n",
       "      <td>15.3</td>\n",
       "      <td>NaN</td>\n",
       "      <td>204.0</td>\n",
       "    </tr>\n",
       "    <tr>\n",
       "      <th>8</th>\n",
       "      <td>360.0</td>\n",
       "      <td>44.0</td>\n",
       "      <td>14.8</td>\n",
       "      <td>0.0</td>\n",
       "      <td>693.0</td>\n",
       "    </tr>\n",
       "  </tbody>\n",
       "</table>\n",
       "</div>"
      ],
      "text/plain": [
       "      DV    HR  TEMP    VV   MP10\n",
       "0  135.0  36.0  20.8  14.5   21.0\n",
       "1  135.0  35.0  21.3  12.9   12.0\n",
       "2  112.5  33.0  21.3  11.3    9.0\n",
       "3  135.0  30.0  21.9  11.3   10.0\n",
       "4  112.5  31.0  21.2   9.7   14.0\n",
       "5  112.5  30.0  19.7   8.0    5.0\n",
       "6  135.0  45.0  16.9   6.4   13.0\n",
       "7    NaN  49.0  15.3   NaN  204.0\n",
       "8  360.0  44.0  14.8   0.0  693.0"
      ]
     },
     "execution_count": 4,
     "metadata": {},
     "output_type": "execute_result"
    }
   ],
   "source": [
    "CNN1_MP10.head(9)"
   ]
  },
  {
   "cell_type": "code",
   "execution_count": 5,
   "id": "a6c993e3-6403-4da1-9180-0ed6a442f7c6",
   "metadata": {},
   "outputs": [
    {
     "data": {
      "text/plain": [
       "DV      3984\n",
       "HR      4036\n",
       "TEMP    4036\n",
       "VV      3984\n",
       "MP10    1012\n",
       "dtype: int64"
      ]
     },
     "execution_count": 5,
     "metadata": {},
     "output_type": "execute_result"
    }
   ],
   "source": [
    "CNN1_MP10.isna().sum()"
   ]
  },
  {
   "cell_type": "code",
   "execution_count": 6,
   "id": "3408fe72-dfc5-416b-a1be-7553704b823b",
   "metadata": {},
   "outputs": [],
   "source": [
    "CNN1_MP10 = CNN1_MP10.interpolate()"
   ]
  },
  {
   "cell_type": "code",
   "execution_count": 7,
   "id": "5fd4691a-fe7b-4d6f-b50b-08350aed2191",
   "metadata": {},
   "outputs": [
    {
     "data": {
      "text/plain": [
       "DV      0\n",
       "HR      0\n",
       "TEMP    0\n",
       "VV      0\n",
       "MP10    0\n",
       "dtype: int64"
      ]
     },
     "execution_count": 7,
     "metadata": {},
     "output_type": "execute_result"
    }
   ],
   "source": [
    "CNN1_MP10.isna().sum()"
   ]
  },
  {
   "cell_type": "code",
   "execution_count": 8,
   "id": "c34bb035-e6bf-4019-b867-d0f6f7e99fc6",
   "metadata": {},
   "outputs": [
    {
     "data": {
      "text/html": [
       "<div>\n",
       "<style scoped>\n",
       "    .dataframe tbody tr th:only-of-type {\n",
       "        vertical-align: middle;\n",
       "    }\n",
       "\n",
       "    .dataframe tbody tr th {\n",
       "        vertical-align: top;\n",
       "    }\n",
       "\n",
       "    .dataframe thead th {\n",
       "        text-align: right;\n",
       "    }\n",
       "</style>\n",
       "<table border=\"1\" class=\"dataframe\">\n",
       "  <thead>\n",
       "    <tr style=\"text-align: right;\">\n",
       "      <th></th>\n",
       "      <th>DV</th>\n",
       "      <th>HR</th>\n",
       "      <th>TEMP</th>\n",
       "      <th>VV</th>\n",
       "      <th>MP10</th>\n",
       "    </tr>\n",
       "  </thead>\n",
       "  <tbody>\n",
       "    <tr>\n",
       "      <th>0</th>\n",
       "      <td>135.0</td>\n",
       "      <td>36.0</td>\n",
       "      <td>20.8</td>\n",
       "      <td>14.5</td>\n",
       "      <td>21.0</td>\n",
       "    </tr>\n",
       "    <tr>\n",
       "      <th>1</th>\n",
       "      <td>135.0</td>\n",
       "      <td>35.0</td>\n",
       "      <td>21.3</td>\n",
       "      <td>12.9</td>\n",
       "      <td>12.0</td>\n",
       "    </tr>\n",
       "    <tr>\n",
       "      <th>2</th>\n",
       "      <td>112.5</td>\n",
       "      <td>33.0</td>\n",
       "      <td>21.3</td>\n",
       "      <td>11.3</td>\n",
       "      <td>9.0</td>\n",
       "    </tr>\n",
       "    <tr>\n",
       "      <th>3</th>\n",
       "      <td>135.0</td>\n",
       "      <td>30.0</td>\n",
       "      <td>21.9</td>\n",
       "      <td>11.3</td>\n",
       "      <td>10.0</td>\n",
       "    </tr>\n",
       "    <tr>\n",
       "      <th>4</th>\n",
       "      <td>112.5</td>\n",
       "      <td>31.0</td>\n",
       "      <td>21.2</td>\n",
       "      <td>9.7</td>\n",
       "      <td>14.0</td>\n",
       "    </tr>\n",
       "    <tr>\n",
       "      <th>5</th>\n",
       "      <td>112.5</td>\n",
       "      <td>30.0</td>\n",
       "      <td>19.7</td>\n",
       "      <td>8.0</td>\n",
       "      <td>5.0</td>\n",
       "    </tr>\n",
       "    <tr>\n",
       "      <th>6</th>\n",
       "      <td>135.0</td>\n",
       "      <td>45.0</td>\n",
       "      <td>16.9</td>\n",
       "      <td>6.4</td>\n",
       "      <td>13.0</td>\n",
       "    </tr>\n",
       "    <tr>\n",
       "      <th>7</th>\n",
       "      <td>247.5</td>\n",
       "      <td>49.0</td>\n",
       "      <td>15.3</td>\n",
       "      <td>3.2</td>\n",
       "      <td>204.0</td>\n",
       "    </tr>\n",
       "    <tr>\n",
       "      <th>8</th>\n",
       "      <td>360.0</td>\n",
       "      <td>44.0</td>\n",
       "      <td>14.8</td>\n",
       "      <td>0.0</td>\n",
       "      <td>693.0</td>\n",
       "    </tr>\n",
       "  </tbody>\n",
       "</table>\n",
       "</div>"
      ],
      "text/plain": [
       "      DV    HR  TEMP    VV   MP10\n",
       "0  135.0  36.0  20.8  14.5   21.0\n",
       "1  135.0  35.0  21.3  12.9   12.0\n",
       "2  112.5  33.0  21.3  11.3    9.0\n",
       "3  135.0  30.0  21.9  11.3   10.0\n",
       "4  112.5  31.0  21.2   9.7   14.0\n",
       "5  112.5  30.0  19.7   8.0    5.0\n",
       "6  135.0  45.0  16.9   6.4   13.0\n",
       "7  247.5  49.0  15.3   3.2  204.0\n",
       "8  360.0  44.0  14.8   0.0  693.0"
      ]
     },
     "execution_count": 8,
     "metadata": {},
     "output_type": "execute_result"
    }
   ],
   "source": [
    "CNN1_MP10.head(9)"
   ]
  },
  {
   "cell_type": "code",
   "execution_count": 9,
   "id": "0a903c8e-61f1-4917-a259-5bc018ba8f93",
   "metadata": {},
   "outputs": [
    {
     "name": "stdout",
     "output_type": "stream",
     "text": [
      "         DV        HR      TEMP        VV  MP10\n",
      "0 -0.205296 -0.221798 -0.207580  2.099207  21.0\n",
      "1 -0.205296 -0.267996 -0.095558  1.748467  12.0\n",
      "2 -0.487732 -0.360393 -0.095558  1.397727   9.0\n",
      "3 -0.205296 -0.498988  0.038867  1.397727  10.0\n",
      "4 -0.487732 -0.452790 -0.117963  1.046987  14.0\n"
     ]
    }
   ],
   "source": [
    "# select the input variables\n",
    "input_cols = ['DV', 'HR', 'TEMP', 'VV']\n",
    "\n",
    "# instantiate the StandardScaler object\n",
    "scaler = StandardScaler()\n",
    "\n",
    "# fit and transform the input variables\n",
    "CNN1_MP10[input_cols] = scaler.fit_transform(CNN1_MP10[input_cols])\n",
    "\n",
    "# check the normalized data\n",
    "print(CNN1_MP10.head())"
   ]
  },
  {
   "cell_type": "code",
   "execution_count": 10,
   "id": "8a61f97b-ecaf-40ef-b29f-1f85f17bf3ac",
   "metadata": {},
   "outputs": [
    {
     "name": "stdout",
     "output_type": "stream",
     "text": [
      "Training inputs shape: (11960, 4), Training targets shape: (11960,)\n",
      "Validation inputs shape: (2990, 4), Validation targets shape: (2990,)\n",
      "Testing inputs shape: (3738, 4), Testing targets shape: (3738,)\n"
     ]
    }
   ],
   "source": [
    "# select the input variables and target variable\n",
    "input_cols = ['DV', 'HR', 'TEMP', 'VV']\n",
    "target_col = 'MP10'\n",
    "\n",
    "# split the data into train and test sets\n",
    "train_df, test_df = train_test_split(CNN1_MP10, test_size=0.2, random_state=42)\n",
    "\n",
    "# split the train data into train and validation sets\n",
    "train_df, val_df = train_test_split(train_df, test_size=0.2, random_state=42)\n",
    "\n",
    "# separate the input and target variables for each dataset\n",
    "train_inputs, train_targets = train_df[input_cols], train_df[target_col]\n",
    "val_inputs, val_targets = val_df[input_cols], val_df[target_col]\n",
    "test_inputs, test_targets = test_df[input_cols], test_df[target_col]\n",
    "\n",
    "# check the shapes of the input and target variables for each dataset\n",
    "print(f'Training inputs shape: {train_inputs.shape}, Training targets shape: {train_targets.shape}')\n",
    "print(f'Validation inputs shape: {val_inputs.shape}, Validation targets shape: {val_targets.shape}')\n",
    "print(f'Testing inputs shape: {test_inputs.shape}, Testing targets shape: {test_targets.shape}')\n"
   ]
  },
  {
   "cell_type": "code",
   "execution_count": 11,
   "id": "a524527f-952b-401a-9acc-9eca4e8c36d3",
   "metadata": {},
   "outputs": [
    {
     "name": "stdout",
     "output_type": "stream",
     "text": [
      "Metal device set to: Apple M1 Max\n"
     ]
    }
   ],
   "source": [
    "# define the model architecture\n",
    "model = keras.Sequential([\n",
    "    keras.layers.Dense(64, activation='relu', input_shape=(train_inputs.shape[1],)),\n",
    "    keras.layers.Dense(32, activation='relu'),\n",
    "    keras.layers.Dense(1)\n",
    "])"
   ]
  },
  {
   "cell_type": "code",
   "execution_count": 12,
   "id": "f42c6d1f-9d2b-473f-93a7-97e0e3aba198",
   "metadata": {},
   "outputs": [],
   "source": [
    "# compile the model\n",
    "model.compile(optimizer='adam', loss='mse')"
   ]
  },
  {
   "cell_type": "code",
   "execution_count": 17,
   "id": "52075d80-71b3-4760-af86-97a16e3c4047",
   "metadata": {},
   "outputs": [
    {
     "name": "stdout",
     "output_type": "stream",
     "text": [
      "Epoch 1/50\n",
      "187/187 [==============================] - 1s 6ms/step - loss: 611128.4375 - val_loss: 590665.3750\n",
      "Epoch 2/50\n",
      "187/187 [==============================] - 1s 5ms/step - loss: 610691.4375 - val_loss: 589789.6250\n",
      "Epoch 3/50\n",
      "187/187 [==============================] - 1s 6ms/step - loss: 610193.1250 - val_loss: 589192.1875\n",
      "Epoch 4/50\n",
      "187/187 [==============================] - 1s 5ms/step - loss: 609533.0000 - val_loss: 589196.6875\n",
      "Epoch 5/50\n",
      "187/187 [==============================] - 1s 5ms/step - loss: 608951.5000 - val_loss: 588945.1875\n",
      "Epoch 6/50\n",
      "187/187 [==============================] - 1s 5ms/step - loss: 608254.1250 - val_loss: 588771.6250\n",
      "Epoch 7/50\n",
      "187/187 [==============================] - 1s 5ms/step - loss: 607813.8125 - val_loss: 588524.0000\n",
      "Epoch 8/50\n",
      "187/187 [==============================] - 1s 5ms/step - loss: 607430.9375 - val_loss: 587610.5625\n",
      "Epoch 9/50\n",
      "187/187 [==============================] - 1s 5ms/step - loss: 607034.4375 - val_loss: 586813.3750\n",
      "Epoch 10/50\n",
      "187/187 [==============================] - 1s 5ms/step - loss: 605812.0625 - val_loss: 586773.0625\n",
      "Epoch 11/50\n",
      "187/187 [==============================] - 1s 5ms/step - loss: 605450.7500 - val_loss: 586010.3125\n",
      "Epoch 12/50\n",
      "187/187 [==============================] - 1s 5ms/step - loss: 604558.0625 - val_loss: 586123.5625\n",
      "Epoch 13/50\n",
      "187/187 [==============================] - 1s 5ms/step - loss: 604146.2500 - val_loss: 585100.9375\n",
      "Epoch 14/50\n",
      "187/187 [==============================] - 1s 5ms/step - loss: 603590.0000 - val_loss: 584982.8750\n",
      "Epoch 15/50\n",
      "187/187 [==============================] - 1s 5ms/step - loss: 603271.0625 - val_loss: 584695.1875\n",
      "Epoch 16/50\n",
      "187/187 [==============================] - 1s 5ms/step - loss: 602367.0000 - val_loss: 584990.6875\n",
      "Epoch 17/50\n",
      "187/187 [==============================] - 1s 5ms/step - loss: 601826.0625 - val_loss: 584314.0625\n",
      "Epoch 18/50\n",
      "187/187 [==============================] - 1s 5ms/step - loss: 601084.0000 - val_loss: 583381.7500\n",
      "Epoch 19/50\n",
      "187/187 [==============================] - 1s 6ms/step - loss: 600759.5000 - val_loss: 582931.0625\n",
      "Epoch 20/50\n",
      "187/187 [==============================] - 1s 5ms/step - loss: 600303.1875 - val_loss: 583028.3125\n",
      "Epoch 21/50\n",
      "187/187 [==============================] - 1s 5ms/step - loss: 599620.9375 - val_loss: 582409.9375\n",
      "Epoch 22/50\n",
      "187/187 [==============================] - 1s 5ms/step - loss: 599028.5000 - val_loss: 582398.1250\n",
      "Epoch 23/50\n",
      "187/187 [==============================] - 1s 5ms/step - loss: 598751.1250 - val_loss: 581899.0000\n",
      "Epoch 24/50\n",
      "187/187 [==============================] - 1s 5ms/step - loss: 598267.0000 - val_loss: 581774.1250\n",
      "Epoch 25/50\n",
      "187/187 [==============================] - 1s 5ms/step - loss: 597789.1875 - val_loss: 581901.6875\n",
      "Epoch 26/50\n",
      "187/187 [==============================] - 1s 5ms/step - loss: 597356.0625 - val_loss: 581046.1250\n",
      "Epoch 27/50\n",
      "187/187 [==============================] - 1s 5ms/step - loss: 597097.2500 - val_loss: 581442.6250\n",
      "Epoch 28/50\n",
      "187/187 [==============================] - 1s 5ms/step - loss: 596765.3125 - val_loss: 580721.0000\n",
      "Epoch 29/50\n",
      "187/187 [==============================] - 1s 7ms/step - loss: 596394.5625 - val_loss: 580973.9375\n",
      "Epoch 30/50\n",
      "187/187 [==============================] - 1s 5ms/step - loss: 595827.9375 - val_loss: 580508.7500\n",
      "Epoch 31/50\n",
      "187/187 [==============================] - 1s 5ms/step - loss: 595732.8125 - val_loss: 579356.1250\n",
      "Epoch 32/50\n",
      "187/187 [==============================] - 1s 5ms/step - loss: 594977.0625 - val_loss: 580402.5000\n",
      "Epoch 33/50\n",
      "187/187 [==============================] - 1s 5ms/step - loss: 594822.3750 - val_loss: 579732.0625\n",
      "Epoch 34/50\n",
      "187/187 [==============================] - 1s 5ms/step - loss: 594395.7500 - val_loss: 579671.0000\n",
      "Epoch 35/50\n",
      "187/187 [==============================] - 1s 6ms/step - loss: 594168.9375 - val_loss: 579213.0000\n",
      "Epoch 36/50\n",
      "187/187 [==============================] - 1s 5ms/step - loss: 593675.0625 - val_loss: 579023.7500\n",
      "Epoch 37/50\n",
      "187/187 [==============================] - 1s 5ms/step - loss: 593232.6250 - val_loss: 580003.9375\n",
      "Epoch 38/50\n",
      "187/187 [==============================] - 1s 5ms/step - loss: 593042.0000 - val_loss: 578337.1875\n",
      "Epoch 39/50\n",
      "187/187 [==============================] - 1s 5ms/step - loss: 592676.6250 - val_loss: 577945.1875\n",
      "Epoch 40/50\n",
      "187/187 [==============================] - 1s 5ms/step - loss: 592355.8750 - val_loss: 578502.8125\n",
      "Epoch 41/50\n",
      "187/187 [==============================] - 1s 5ms/step - loss: 592003.0000 - val_loss: 578582.6875\n",
      "Epoch 42/50\n",
      "187/187 [==============================] - 1s 5ms/step - loss: 591851.1875 - val_loss: 580621.8125\n",
      "Epoch 43/50\n",
      "187/187 [==============================] - 1s 5ms/step - loss: 591600.5625 - val_loss: 576913.1250\n",
      "Epoch 44/50\n",
      "187/187 [==============================] - 1s 5ms/step - loss: 591131.3125 - val_loss: 578888.5000\n",
      "Epoch 45/50\n",
      "187/187 [==============================] - 1s 5ms/step - loss: 590686.1875 - val_loss: 578132.7500\n",
      "Epoch 46/50\n",
      "187/187 [==============================] - 1s 5ms/step - loss: 590540.9375 - val_loss: 577343.9375\n",
      "Epoch 47/50\n",
      "187/187 [==============================] - 1s 5ms/step - loss: 590162.1250 - val_loss: 577237.3750\n",
      "Epoch 48/50\n",
      "187/187 [==============================] - 1s 5ms/step - loss: 589643.5625 - val_loss: 576451.0000\n",
      "Epoch 49/50\n",
      "187/187 [==============================] - 1s 5ms/step - loss: 589424.1250 - val_loss: 578042.8750\n",
      "Epoch 50/50\n",
      "187/187 [==============================] - 1s 5ms/step - loss: 589331.1875 - val_loss: 576933.8125\n"
     ]
    }
   ],
   "source": [
    "# train the model\n",
    "history = model.fit(train_inputs, train_targets, validation_data=(val_inputs, val_targets), epochs=50, batch_size=64)"
   ]
  },
  {
   "cell_type": "code",
   "execution_count": 18,
   "id": "5689083f-76b2-4785-bbcb-50566a6ab22c",
   "metadata": {},
   "outputs": [
    {
     "name": "stdout",
     "output_type": "stream",
     "text": [
      "117/117 [==============================] - 0s 3ms/step - loss: 599976.9375\n",
      "Test loss: 599976.9375\n"
     ]
    }
   ],
   "source": [
    "# evaluate the model on the test set\n",
    "test_loss = model.evaluate(test_inputs, test_targets)\n",
    "print(f'Test loss: {test_loss:.4f}')"
   ]
  },
  {
   "cell_type": "code",
   "execution_count": 20,
   "id": "7c620732-f0d8-44fc-99bd-465ccaa91f59",
   "metadata": {},
   "outputs": [
    {
     "name": "stdout",
     "output_type": "stream",
     "text": [
      "117/117 [==============================] - 0s 2ms/step\n"
     ]
    }
   ],
   "source": [
    "# predict the PM10 values for the test set\n",
    "test_predictions = model.predict(test_inputs).flatten()"
   ]
  },
  {
   "cell_type": "code",
   "execution_count": 28,
   "id": "652212fb-0402-476d-9129-ee57b2f8cc66",
   "metadata": {},
   "outputs": [
    {
     "data": {
      "text/plain": [
       "array([237.45166,  82.26529, 173.54102, ..., 486.1708 , 612.504  ,\n",
       "       643.13873], dtype=float32)"
      ]
     },
     "execution_count": 28,
     "metadata": {},
     "output_type": "execute_result"
    }
   ],
   "source": [
    "test_predictions"
   ]
  },
  {
   "cell_type": "code",
   "execution_count": 29,
   "id": "33fd86c7-0685-4bf4-8dba-20cfabd317be",
   "metadata": {},
   "outputs": [],
   "source": [
    "# create a sequence from 1 to the length of the test set\n",
    "x = np.arange(1, len(test_targets) + 1)"
   ]
  },
  {
   "cell_type": "code",
   "execution_count": 30,
   "id": "39eb43eb-b581-4ff6-9b15-aecc1950b169",
   "metadata": {},
   "outputs": [
    {
     "data": {
      "image/png": "[encoded data removed]",
      "text/plain": [
       "<Figure size 640x480 with 1 Axes>"
      ]
     },
     "metadata": {},
     "output_type": "display_data"
    }
   ],
   "source": [
    "# plot the actual values and predicted values on the same plot\n",
    "plt.plot(x, test_targets, label='Actual')\n",
    "plt.plot(x, test_predictions, label='Predicted')\n",
    "plt.xlabel('Sequence')\n",
    "plt.ylabel('PM10')\n",
    "plt.legend()\n",
    "plt.show()"
   ]
  },
  {
   "cell_type": "code",
   "execution_count": 32,
   "id": "98a6ec6e-bdcb-4137-bca5-b6147016c4c4",
   "metadata": {},
   "outputs": [
    {
     "data": {
      "text/plain": [
       "855"
      ]
     },
     "execution_count": 32,
     "metadata": {},
     "output_type": "execute_result"
    }
   ],
   "source": [
    "(test_targets > 500).value_counts()[True]"
   ]
  },
  {
   "cell_type": "code",
   "execution_count": 33,
   "id": "7465a0f3-3434-4b89-8e58-e66ebd563b28",
   "metadata": {},
   "outputs": [
    {
     "data": {
      "text/plain": [
       "3656      145.000000\n",
       "4785       46.000000\n",
       "5018        9.000000\n",
       "13044      22.000000\n",
       "3989      736.000000\n",
       "            ...     \n",
       "8663       44.923077\n",
       "11974       6.000000\n",
       "6682     1240.500000\n",
       "11482     212.000000\n",
       "4229     3244.000000\n",
       "Name: MP10, Length: 3738, dtype: float64"
      ]
     },
     "execution_count": 33,
     "metadata": {},
     "output_type": "execute_result"
    }
   ],
   "source": [
    "test_targets"
   ]
  },
  {
   "cell_type": "code",
   "execution_count": null,
   "id": "a7b8ed1b-fa65-4620-b7cb-d63627632817",
   "metadata": {},
   "outputs": [],
   "source": []
  }
 ],
 "metadata": {
  "kernelspec": {
   "display_name": "Python 3 (ipykernel)",
   "language": "python",
   "name": "python3"
  },
  "language_info": {
   "codemirror_mode": {
    "name": "ipython",
    "version": 3
   },
   "file_extension": ".py",
   "mimetype": "text/x-python",
   "name": "python",
   "nbconvert_exporter": "python",
   "pygments_lexer": "ipython3",
   "version": "3.10.9"
  }
 },
 "nbformat": 4,
 "nbformat_minor": 5
}
